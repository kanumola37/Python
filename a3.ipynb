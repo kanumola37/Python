{
 "cells": [
  {
   "cell_type": "markdown",
   "metadata": {},
   "source": [
    "<h3>Anumola Kishore Kumar</h3>\n",
    "<p>ZID - 1942332</p>\n",
    "<p>Assignment 3 - The Assignment is to work with lists and dictionaries in Python</p>"
   ]
  },
  {
   "cell_type": "markdown",
   "metadata": {},
   "source": [
    "### 1. Serving Size Units (5 pts)\n",
    "Find all of the possible values for serving size units. List each type only once!"
   ]
  },
  {
   "cell_type": "code",
   "execution_count": 1,
   "metadata": {},
   "outputs": [],
   "source": [
    "import os\n",
    "import json\n",
    "from urllib.request import urlretrieve\n",
    "\n",
    "url = \"http://faculty.cs.niu.edu/~dakoop/cs503-2022sp/a3/food-data-sample.json\"\n",
    "local_fname = 'food-data-sample.json'\n",
    "if not os.path.exists(local_fname):\n",
    "    urlretrieve(url, local_fname)\n",
    "data = json.load(open(local_fname))"
   ]
  },
  {
   "cell_type": "code",
   "execution_count": 2,
   "metadata": {},
   "outputs": [
    {
     "name": "stdout",
     "output_type": "stream",
     "text": [
      "{'ml', 'g'}\n"
     ]
    }
   ],
   "source": [
    "list=[]\n",
    "for id,val in enumerate(data):\n",
    "    list.append((val['serving_size_unit']))    \n",
    "list\n",
    "x=set(list)\n",
    "print(x)"
   ]
  },
  {
   "cell_type": "markdown",
   "metadata": {},
   "source": [
    "### 2. Largest Serving Size (10 pts)\n",
    "Write code to find the food item in the dataset with the largest serving size among those in grams (serving unit type is ‘g’). Output the name description and brand_owner of the food item. Remember that you will need to iterate through each element of the list, and each element is a dictionary which has various keys including serving_unit_size and name."
   ]
  },
  {
   "cell_type": "code",
   "execution_count": 3,
   "metadata": {},
   "outputs": [
    {
     "name": "stdout",
     "output_type": "stream",
     "text": [
      "GOURMET POORBOY SUB SANDWICH\n",
      "Schnuck Markets, Inc.\n",
      "595.0\n"
     ]
    }
   ],
   "source": [
    "servingsizels=[]\n",
    "for id,val in enumerate(data):\n",
    "    if val['serving_size_unit']=='g':\n",
    "        servingsizels.append(val['serving_size'])\n",
    "for id,val in enumerate(data):\n",
    "    if val['serving_size']==max(servingsizels):\n",
    "        print(val['description'])\n",
    "        print(val['brand_owner'])\n",
    "        print(val['serving_size'])"
   ]
  },
  {
   "cell_type": "markdown",
   "metadata": {},
   "source": [
    "### 3. Category Counts (10 pts)\n",
    "Write code to create a dictionary, category_counts that keeps track of how many items each food category (branded_food_category) has listed in our sample dataset. Next, use this dictionary to find and display the name of the category that has the largest number of items."
   ]
  },
  {
   "cell_type": "code",
   "execution_count": 4,
   "metadata": {},
   "outputs": [
    {
     "name": "stdout",
     "output_type": "stream",
     "text": [
      "Max value in Dict:  557\n",
      "Key With Max value in Dict:  Popcorn, Peanuts, Seeds & Related Snacks\n"
     ]
    }
   ],
   "source": [
    "list=[]\n",
    "category_counts=dict()\n",
    "for id,val in enumerate(data):\n",
    "    if val['branded_food_category'] is not None:\n",
    "    #if val['branded_food_category'] is not None and val['branded_food_category'] in category_counts:\n",
    "        list.append(val['branded_food_category'])\n",
    "for s in list:\n",
    "    \n",
    "    if s in category_counts:\n",
    "        \n",
    "        category_counts[s]+=1\n",
    "    else:\n",
    "        category_counts[s]=1\n",
    "        #list.append(val['branded_food_category'])\n",
    "#print(category_counts) \n",
    "itemMaxValue = max(category_counts.items(), key=lambda x : x[1])\n",
    "print('Max value in Dict: ', itemMaxValue[1])\n",
    "print('Key With Max value in Dict: ', itemMaxValue[0])"
   ]
  },
  {
   "cell_type": "markdown",
   "metadata": {},
   "source": [
    "### 4. Add Unsaturated Fat (15 pts)\n",
    "Update the list of each food item’s nutrition information to include the amount of unsaturated fat. This can be computed by subtracting the amount of saturated fat from the amount of total fat. You will need to add a new dictionary to the list of nutrition information. The keys for name and unit_type should be “Unsaturated Fat” and “G”, respectively. "
   ]
  },
  {
   "cell_type": "code",
   "execution_count": 12,
   "metadata": {},
   "outputs": [
    {
     "name": "stdout",
     "output_type": "stream",
     "text": [
      "{'fdc_id': 346058, 'brand_owner': 'Conagra Brands', 'brand_name': None, 'description': 'DAVID Dill Pickle Sunflower Seeds', 'branded_food_category': 'Nuts/Seeds - Prepared/Processed (Shelf Stable)', 'ingredients': 'Sunflower Seeds, Salt, Partially Hydrogenated Soybean Oil, Less than 2% of: Sugar, Spices, Sodium Diacetate, Modified Corn Starch, Distilled Vinegar, Garlic Powder, Natural Flavor, Onion Powder, Citric Acid, Disodium Inosinate & Disodium Guanylate, Extractives of Turmeric.', 'serving_size': 30.0, 'serving_size_unit': 'g', 'nutrition': [{'name': 'Fiber', 'amount': 6.7, 'unit_name': 'G'}, {'name': 'Saturated Fat', 'amount': 6.67, 'unit_name': 'G'}, {'name': 'Carbohydrates', 'amount': 16.67, 'unit_name': 'G'}, {'name': 'Sodium', 'amount': 433.0, 'unit_name': 'MG'}, {'name': 'Total Fat', 'amount': 53.33, 'unit_name': 'G'}, {'name': 'Protein', 'amount': 26.67, 'unit_name': 'G'}, {'name': 'Calories', 'amount': 633.0, 'unit_name': 'KCAL'}, {'name': 'Sugar', 'amount': 3.33, 'unit_name': 'G'}, {'name': 'Unsaturated fat', 'amount': 'unsatuarted fat', 'unit_name': 'G'}, {'name': 'Unsaturated fat', 'amount': 'unsatuarted fat', 'unit_name': 'G'}]}\n"
     ]
    }
   ],
   "source": [
    "for List_elem in data:\n",
    "    satu_fat=0\n",
    "    ttl_fat=0\n",
    "    for element in List_elem['nutrition']:\n",
    "        if element[\"name\"]==\"Total Fat\":\n",
    "           ttl_fat=element[\"amount\"] \n",
    "        if element[\"name\"] ==\"Saturated fat\":\n",
    "            satu_fat==element[\"amount\"]   \n",
    "        satu_fat=ttl_fat-satu_fat\n",
    "    List_elem[\"nutrition\"].append({'name':'Unsaturated fat','amount' : 'unsatuarted fat','unit_name':'G'})\n",
    "print(data[1])"
   ]
  },
  {
   "cell_type": "markdown",
   "metadata": {},
   "source": [
    "### 5.Filter by Fiber Range (15 pts)\n",
    "Write a function filter_by_fiber that takes two arguments, min_fiber and max_fiber, and returns a list of food items whose amount of fiber is in the specified range, inclusive. For each item, you will need to find the Fiber listing in the nutrition list. Do not assume that item will be in a particular index of the list! Then, test whether the item’s amount of fiber is in the specified range, only including it in the returned list if it satisfies the condition. For example, the list comprehension [d['description'] for d in filter_by_fiber(6.3,6.35)] should evaluate to:"
   ]
  },
  {
   "cell_type": "code",
   "execution_count": 6,
   "metadata": {},
   "outputs": [],
   "source": [
    "def filter_by_fiber(min_fiber, max_fiber):\n",
    "    fiber_list = []\n",
    "    for id, val in enumerate(data):\n",
    "        for sub_val in val['nutrition']:\n",
    "            if sub_val['name'] == 'Fiber' and (min_fiber <= sub_val['amount'] <= max_fiber):\n",
    "                fiber_list.append(val)\n",
    "    return fiber_list"
   ]
  },
  {
   "cell_type": "code",
   "execution_count": 7,
   "metadata": {},
   "outputs": [
    {
     "data": {
      "text/plain": [
       "['SISTERS FRUIT COMPANY, RED DELICIOUS SLICED APPLE CHIPS, LIGHT & CRISPY',\n",
       " 'PINTO BEANS',\n",
       " 'VANILLA ALMOND PREMIUM NATURALLY FLAVORED GRANOLA',\n",
       " \"BUSH'S Red Beans in a Mild Chili Sauce 16 oz\",\n",
       " 'FRUIT & NUT GRANOLA, FRUIT & NUT',\n",
       " 'VANILLA ALMOND WARM VANILLA FLAVOR PERFECTLY MIXED WITH SWEET HONEY AND SATISFYING ALMONDS PREMIUM GRANOLA, VANILLA ALMOND']"
      ]
     },
     "execution_count": 7,
     "metadata": {},
     "output_type": "execute_result"
    }
   ],
   "source": [
    "[d['description'] for d in filter_by_fiber(6.3,6.35)]"
   ]
  },
  {
   "cell_type": "markdown",
   "metadata": {},
   "source": [
    "### 6. [CSCI 503 Only] Filter by Ingredients (15 pts)\n",
    "Only CSCI 503 students need to complete this part. CSCI 490 students may complete it for extra credit.\n",
    "\n",
    "Write a function filter_by_ingredients that will filter the food items by their ingredients. Specifically, given an ingredient (e.g. “Apple”), return the food items that have that ingredient. Note that you should do a case-insensitive comparison so the ingredient “apple” should return food items that list “APPLE”, “Apple”, “apple”, etc. "
   ]
  },
  {
   "cell_type": "code",
   "execution_count": 8,
   "metadata": {},
   "outputs": [],
   "source": [
    "def filter_by_ingredients(name):\n",
    "    ingredients_items = []\n",
    "    for id, val in enumerate(data):\n",
    "        if val['ingredients'] != None and name.upper() in val['ingredients'].upper():\n",
    "            ingredients_items.append(val)\n",
    "    \n",
    "    return ingredients_items"
   ]
  },
  {
   "cell_type": "code",
   "execution_count": 9,
   "metadata": {},
   "outputs": [
    {
     "data": {
      "text/plain": [
       "['WILD MUSHROOM & TRUFFLE',\n",
       " 'ARTICHOKE HEARTS',\n",
       " 'FLAN DESSERT MIX',\n",
       " 'CHICKEN TIKKA MASALA WITH SAFFRON RICE, MEDIUM',\n",
       " 'CON AZAFRAN SEASONING',\n",
       " 'SEASONED YELLOWRICE']"
      ]
     },
     "execution_count": 9,
     "metadata": {},
     "output_type": "execute_result"
    }
   ],
   "source": [
    "[d['description'] for d in filter_by_ingredients('saffron')]"
   ]
  },
  {
   "cell_type": "code",
   "execution_count": 10,
   "metadata": {},
   "outputs": [
    {
     "data": {
      "text/plain": [
       "605"
      ]
     },
     "execution_count": 10,
     "metadata": {},
     "output_type": "execute_result"
    }
   ],
   "source": [
    "len(filter_by_ingredients('apple'))"
   ]
  },
  {
   "cell_type": "code",
   "execution_count": 11,
   "metadata": {},
   "outputs": [
    {
     "data": {
      "text/plain": [
       "{'fdc_id': 345534,\n",
       " 'brand_owner': 'Red Gold',\n",
       " 'brand_name': None,\n",
       " 'description': 'Red Gold 28oz. Petite Diced Tomatoes',\n",
       " 'branded_food_category': None,\n",
       " 'ingredients': 'Tomatoes, Tomato Juice, Less Than 2% of: Salt, Calcium Chloride, Citric Acid',\n",
       " 'serving_size': 121.0,\n",
       " 'serving_size_unit': 'g',\n",
       " 'nutrition': [{'name': 'Fiber', 'amount': 0.8, 'unit_name': 'G'},\n",
       "  {'name': 'Saturated Fat', 'amount': 0.0, 'unit_name': 'G'},\n",
       "  {'name': 'Carbohydrates', 'amount': 4.13, 'unit_name': 'G'},\n",
       "  {'name': 'Sodium', 'amount': 149.0, 'unit_name': 'MG'},\n",
       "  {'name': 'Total Fat', 'amount': 0.0, 'unit_name': 'G'},\n",
       "  {'name': 'Protein', 'amount': 0.83, 'unit_name': 'G'},\n",
       "  {'name': 'Calories', 'amount': 21.0, 'unit_name': 'KCAL'},\n",
       "  {'name': 'Sugar', 'amount': 2.48, 'unit_name': 'G'},\n",
       "  {'name': 'Unsaturated fat', 'amount': 'unsatuarted fat', 'unit_name': 'G'}]}"
      ]
     },
     "execution_count": 11,
     "metadata": {},
     "output_type": "execute_result"
    }
   ],
   "source": [
    "data[0]"
   ]
  }
 ],
 "metadata": {
  "kernelspec": {
   "display_name": "Python 3",
   "language": "python",
   "name": "python3"
  },
  "language_info": {
   "codemirror_mode": {
    "name": "ipython",
    "version": 3
   },
   "file_extension": ".py",
   "mimetype": "text/x-python",
   "name": "python",
   "nbconvert_exporter": "python",
   "pygments_lexer": "ipython3",
   "version": "3.9.7"
  }
 },
 "nbformat": 4,
 "nbformat_minor": 4
}
