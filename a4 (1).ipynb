{
 "cells": [
  {
   "cell_type": "code",
   "execution_count": 1,
   "id": "c2453fef",
   "metadata": {},
   "outputs": [],
   "source": [
    "import re\n",
    "import os\n",
    "from urllib.request import urlretrieve\n",
    "def download_text(url):\n",
    "    local_fname = os.path.basename(url)\n",
    "    if not os.path.exists(local_fname):\n",
    "        urlretrieve(url, local_fname)\n",
    "    return local_fname"
   ]
  },
  {
   "cell_type": "code",
   "execution_count": 2,
   "id": "db1a8c02",
   "metadata": {},
   "outputs": [],
   "source": [
    "def file_nametext(filename):\n",
    "    file = open(fname, 'r')\n",
    "    list=[]\n",
    "    for line in file:\n",
    "        if line.startswith(\"*** START\") :\n",
    "            while True:\n",
    "                read_data = file.readline().rstrip()\n",
    "                if read_data.startswith(\"*** END \"):\n",
    "                    break\n",
    "                line_list=read_data.split()\n",
    "                list.append(line_list)\n",
    "                list = [x for x in list if x != []]\n",
    "    return list"
   ]
  },
  {
   "cell_type": "code",
   "execution_count": 3,
   "id": "e480e2c2",
   "metadata": {},
   "outputs": [],
   "source": [
    "fname = download_text('https://www.gutenberg.org/files/2650/2650-0.txt')\n",
    "out=file_nametext(fname)\n",
    "#print(out)"
   ]
  },
  {
   "cell_type": "code",
   "execution_count": 4,
   "id": "f1b14550",
   "metadata": {},
   "outputs": [
    {
     "name": "stdout",
     "output_type": "stream",
     "text": [
      "Vowels:  348190\n",
      "Consonants:  455603\n"
     ]
    }
   ],
   "source": [
    "\n",
    "vowels=['a','e','i','o','u','y','à','â','æ','è','é','ê','ë','î','ï','ô','ù','û','ü','ÿ','œ']\n",
    "vowel_count = 0\n",
    "consonant_count = 0\n",
    "for line in out:\n",
    "    for i in line:\n",
    "        #print(str(i).lower())\n",
    "        for x in str(i).lower():\n",
    "            if x in vowels:\n",
    "                vowel_count += 1\n",
    "            elif x.isalpha() :\n",
    "                consonant_count += 1\n",
    "\n",
    "print(f\"Vowels: \", vowel_count)\n",
    "print(\"Consonants: \", consonant_count)"
   ]
  },
  {
   "cell_type": "code",
   "execution_count": 5,
   "id": "dc123cad",
   "metadata": {},
   "outputs": [],
   "source": [
    "d={'à':'a','â':'a','è':'e','é':'e','ê':'e','ë':'e','î':'i','ï':'i','ô':'o','ù':'u','û':'u','ü':'u','ÿ':'y','æ':'ae','œ':'oe'}\n",
    "file = open(fname, 'r')\n",
    "read_data=file.readlines()\n",
    "#print(read_data)\n",
    "file = open(\"F:/personal/converted.txt\",\"w\")\n",
    "for line in read_data:\n",
    "    strs=str(line).lower()\n",
    "    strs=\"\".join((d.get(x,x) for x in strs))\n",
    "    #print(strs)\n",
    "    file.write(strs)             \n",
    "\n",
    "    "
   ]
  },
  {
   "cell_type": "code",
   "execution_count": 7,
   "id": "4c0aad47",
   "metadata": {},
   "outputs": [
    {
     "name": "stdout",
     "output_type": "stream",
     "text": [
      "Vowels after appending:  354330\n",
      "Vowels:  348190\n",
      "Conversion Change: +1.76\n",
      "----------------------------\n",
      "Consonants after appending:  464788\n",
      "Consonants:  455603\n",
      "Conversion Change: +2.02\n"
     ]
    }
   ],
   "source": [
    "line1 = \"From Project Gutenberg (www.gutenberg.org)\"\n",
    "line2 = \"Converted by: sasi\"\n",
    "line3 = \"*** START OF THE EBOOK ***\"\n",
    "line4 = \"*** END OF THE EBOOK ***\"\n",
    "with open('F:/personal/converted.txt','r+') as fp:\n",
    "    lines = fp.read()     \n",
    "    #lines.insert(0,line1)  \n",
    "    #lines.insert(1,line2)\n",
    "    #lines.insert(2,line3)\n",
    "    fp.seek(0,0)                 \n",
    "    fp.writelines('{}\\n{}\\n{}\\n'.format(line1,line2,line3)+lines)\n",
    "    fp.close()\n",
    "\n",
    "\n",
    "#with open(\"F:/personal/converted.txt\", \"a+\") as a_file:  \n",
    "file = open(\"F:/personal/converted.txt\", \"a\") \n",
    "#file.write(/n)\n",
    "file.write(line4)\n",
    "file.close()\n",
    "   \n",
    "\n",
    "vowels=['a','e','i','o','u','y','à','â','æ','è','é','ê','ë','î','ï','ô','ù','û','ü','ÿ','œ']\n",
    "vowel_count_appending = 0\n",
    "consonant_count_appending = 0\n",
    "#print(read_data)\n",
    "file = open(\"F:/personal/converted.txt\", \"r\")\n",
    "#print(\"Output of Readlines after appending\")\n",
    "#print(file.read())\n",
    "list=[]\n",
    "for line in file:\n",
    "    read_data = file.read().rstrip()\n",
    "    line_list=read_data.split()\n",
    "    list.append(line_list)\n",
    "    list = [x for x in list if x != []]\n",
    "#print(list)\n",
    "\n",
    "for line in list:\n",
    "        strs=str(line).lower()\n",
    "        for x in strs:\n",
    "            if x in vowels:\n",
    "                vowel_count_appending += 1\n",
    "            elif x.isalpha() :\n",
    "                consonant_count_appending += 1\n",
    "\n",
    "print(\"Vowels after appending: \",(vowel_count_appending ))\n",
    "print(\"Vowels: \",(vowel_count))\n",
    "conversion_change_vowels=((vowel_count_appending-vowel_count)/vowel_count)*100\n",
    "if conversion_change_vowels>0:\n",
    "    #print(\"Conversion Change: \",{:+.2f}fconversion_change_vowels)\n",
    "    print(\"Conversion Change: {:+.2f}\".format(conversion_change_vowels))\n",
    "else:\n",
    "          \n",
    "    print(\"Conversion Change {:-.2f}\".format(conversion_change_vowels))\n",
    "    \n",
    "print('----------------------------')\n",
    "    \n",
    "print(\"Consonants after appending: \",(consonant_count_appending))\n",
    "print(\"Consonants: \",(consonant_count))\n",
    "conversion_change_consonant=((consonant_count_appending-consonant_count)/consonant_count)*100\n",
    "if conversion_change_consonant>0:\n",
    "    #print(\"Conversion Change: \",{:+.2f}fconversion_change_vowels)\n",
    "    print(\"Conversion Change: {:+.2f}\".format(conversion_change_consonant))\n",
    "else:\n",
    "          \n",
    "    print(\"Conversion Change {:-.2f}\".format(conversion_change_consonant))\n",
    "    \n",
    "\n",
    "    \n"
   ]
  },
  {
   "cell_type": "code",
   "execution_count": 7,
   "id": "b8f4af47",
   "metadata": {},
   "outputs": [
    {
     "name": "stdout",
     "output_type": "stream",
     "text": [
      "Vowels:  354324\n",
      "Consonants:  464781\n"
     ]
    }
   ],
   "source": [
    "print('number of vowels before: ',vowel_count)\n",
    "print(\"number of vowels after: \", vowel_count_appending )\n",
    "file=open(\"F:/personal/converted.txt\", \"r\")\n",
    "#print(read_data)\n",
    "list=[]\n",
    "for line in file:\n",
    "    read_data = file.read().rstrip()\n",
    "    line_list=read_data.split()\n",
    "    list.append(line_list)\n",
    "    list = [x for x in list if x != []]\n",
    "\n",
    "for line in list:\n",
    "        strs=str(line).lower()\n",
    "        for x in strs:\n",
    "            if x in vowels:\n",
    "                vowel_count += 1\n",
    "            elif x.isalpha() :\n",
    "                consonant_count += 1\n",
    "\n",
    "print(\"Vowels: \", vowel_count )\n",
    "print(\"Consonants: \", consonant_count)\n",
    "\n",
    "\n",
    "list=[]\n",
    "vowels=['a','e','i','o','u','y','à','â','æ','è','é','ê','ë','î','ï','ô','ù','û','ü','ÿ','œ']\n",
    "vowel_count = 0\n",
    "consonant_count = 0\n",
    "for line in file:\n",
    "    read_data = file.read().rstrip()\n",
    "    line_list=read_data.split()\n",
    "    list.append(line_list)\n",
    "    list = [x for x in list if x != []]\n",
    "\n",
    "for line in list:\n",
    "        strs=str(line).lower()\n",
    "        for x in strs:\n",
    "            if x in vowels:\n",
    "                vowel_count += 1\n",
    "            elif x.isalpha() :\n",
    "                consonant_count += 1\n",
    "\n",
    "print(\"Vowels: \", vowel_count )\n",
    "print(\"Consonants: \", consonant_count)"
   ]
  },
  {
   "cell_type": "markdown",
   "id": "4ba6e017",
   "metadata": {},
   "source": [
    "for x in str(i).lower():\n",
    "            #print(x)\n",
    "            if x in vowels:\n",
    "                vowel_count += 1\n",
    "            elif x.isalpha() :\n",
    "                consonant_count += 1\n",
    "\n",
    "    print(\"Vowels: \", vowel_count )\n",
    "    print(\"Consonants: \", consonant_count)\n",
    "    \n",
    "    \n",
    "    strs=str(line).lower()\n",
    "        for x in str(i).lower():\n",
    "            print(x)\n",
    "for line in read_data:\n",
    "        strs=str(line).lower()\n",
    "        for x in str(i).lower():\n",
    "            #print(x)\n",
    "            if x in vowels:\n",
    "                vowel_count += 1\n",
    "            elif x.isalpha() :\n",
    "                consonant_count += 1\n",
    "\n",
    "print(\"Vowels: \", vowel_count )\n",
    "print(\"Consonants: \", consonant_count)"
   ]
  },
  {
   "cell_type": "code",
   "execution_count": null,
   "id": "5ddc9518",
   "metadata": {},
   "outputs": [],
   "source": []
  },
  {
   "cell_type": "code",
   "execution_count": null,
   "id": "f5aa41ba",
   "metadata": {},
   "outputs": [],
   "source": []
  },
  {
   "cell_type": "code",
   "execution_count": null,
   "id": "618889cf",
   "metadata": {},
   "outputs": [],
   "source": []
  },
  {
   "cell_type": "code",
   "execution_count": null,
   "id": "1513f251",
   "metadata": {},
   "outputs": [],
   "source": []
  },
  {
   "cell_type": "code",
   "execution_count": null,
   "id": "82fb6253",
   "metadata": {},
   "outputs": [],
   "source": []
  },
  {
   "cell_type": "code",
   "execution_count": null,
   "id": "1c593d07",
   "metadata": {},
   "outputs": [],
   "source": []
  },
  {
   "cell_type": "code",
   "execution_count": null,
   "id": "adc80f1c",
   "metadata": {},
   "outputs": [],
   "source": []
  },
  {
   "cell_type": "markdown",
   "id": "c37a5eee",
   "metadata": {},
   "source": []
  },
  {
   "cell_type": "code",
   "execution_count": null,
   "id": "7afb774b",
   "metadata": {},
   "outputs": [],
   "source": []
  },
  {
   "cell_type": "code",
   "execution_count": null,
   "id": "5a33bc26",
   "metadata": {},
   "outputs": [],
   "source": []
  },
  {
   "cell_type": "code",
   "execution_count": null,
   "id": "9eeb2614",
   "metadata": {},
   "outputs": [],
   "source": []
  },
  {
   "cell_type": "code",
   "execution_count": null,
   "id": "f843ee3b",
   "metadata": {},
   "outputs": [],
   "source": []
  },
  {
   "cell_type": "code",
   "execution_count": null,
   "id": "9969be21",
   "metadata": {},
   "outputs": [],
   "source": []
  }
 ],
 "metadata": {
  "kernelspec": {
   "display_name": "Python 3",
   "language": "python",
   "name": "python3"
  },
  "language_info": {
   "codemirror_mode": {
    "name": "ipython",
    "version": 3
   },
   "file_extension": ".py",
   "mimetype": "text/x-python",
   "name": "python",
   "nbconvert_exporter": "python",
   "pygments_lexer": "ipython3",
   "version": "3.8.8"
  }
 },
 "nbformat": 4,
 "nbformat_minor": 5
}
