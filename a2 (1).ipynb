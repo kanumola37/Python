{
 "cells": [
  {
   "cell_type": "markdown",
   "metadata": {},
   "source": [
    "<h5>Anumola Kishore Kumar</h5>\n",
    "<p>Z-ID : Z1942332</p>\n",
    "<p>In this assignment we are going to work on control structures and functions</p>"
   ]
  },
  {
   "cell_type": "code",
   "execution_count": 19,
   "metadata": {},
   "outputs": [
    {
     "name": "stdout",
     "output_type": "stream",
     "text": [
      "1\n",
      "2 V 1\n",
      "3 ^ 10 V 5 ^ 16 V 8 V 4 V 2 V 1\n",
      "4 V 2 V 1\n",
      "5 ^ 16 V 8 V 4 V 2 V 1\n",
      "6 V 3 ^ 10 V 5 ^ 16 V 8 V 4 V 2 V 1\n",
      "7 ^ 22 V 11 ^ 34 V 17 ^ 52 V 26 V 13 ^ 40 V 20 V 10 V 5 ^ 16 V 8 V 4 V 2 V 1\n",
      "8 V 4 V 2 V 1\n",
      "9 ^ 28 V 14 V 7 ^ 22 V 11 ^ 34 V 17 ^ 52 V 26 V 13 ^ 40 V 20 V 10 V 5 ^ 16 V 8 V 4 V 2 V 1\n",
      "10 V 5 ^ 16 V 8 V 4 V 2 V 1\n",
      "11 ^ 34 V 17 ^ 52 V 26 V 13 ^ 40 V 20 V 10 V 5 ^ 16 V 8 V 4 V 2 V 1\n",
      "12 V 6 V 3 ^ 10 V 5 ^ 16 V 8 V 4 V 2 V 1\n",
      "13 ^ 40 V 20 V 10 V 5 ^ 16 V 8 V 4 V 2 V 1\n",
      "14 V 7 ^ 22 V 11 ^ 34 V 17 ^ 52 V 26 V 13 ^ 40 V 20 V 10 V 5 ^ 16 V 8 V 4 V 2 V 1\n",
      "15 ^ 46 V 23 ^ 70 V 35 ^ 106 V 53 ^ 160 V 80 V 40 V 20 V 10 V 5 ^ 16 V 8 V 4 V 2 V 1\n",
      "16 V 8 V 4 V 2 V 1\n",
      "17 ^ 52 V 26 V 13 ^ 40 V 20 V 10 V 5 ^ 16 V 8 V 4 V 2 V 1\n",
      "18 V 9 ^ 28 V 14 V 7 ^ 22 V 11 ^ 34 V 17 ^ 52 V 26 V 13 ^ 40 V 20 V 10 V 5 ^ 16 V 8 V 4 V 2 V 1\n",
      "19 ^ 58 V 29 ^ 88 V 44 V 22 V 11 ^ 34 V 17 ^ 52 V 26 V 13 ^ 40 V 20 V 10 V 5 ^ 16 V 8 V 4 V 2 V 1\n",
      "20 V 10 V 5 ^ 16 V 8 V 4 V 2 V 1\n"
     ]
    }
   ],
   "source": [
    "def orbit(n_value):\n",
    "    while n_value != 1:\n",
    "        print(n_value, end = ' ')\n",
    "        if n_value & 1:\n",
    "             print('^',end=' ')\n",
    "             n_value = 3 * n_value + 1\n",
    "        else:\n",
    "            print('V',end=' ')\n",
    "            n_value = n_value // 2\n",
    "         \n",
    "    print(n_value)\n",
    "ran_value=range(1,21)    \n",
    "for i in ran_value:\n",
    "  orbit(i) "
   ]
  },
  {
   "cell_type": "code",
   "execution_count": 27,
   "metadata": {},
   "outputs": [
    {
     "name": "stdout",
     "output_type": "stream",
     "text": [
      "1: 0 0\n",
      "2: 0 1\n",
      "3: 2 5\n",
      "4: 0 2\n",
      "5: 1 4\n",
      "6: 2 6\n",
      "7: 5 11\n",
      "8: 0 3\n",
      "9: 6 13\n",
      "10: 1 5\n",
      "11: 4 10\n",
      "12: 2 7\n",
      "13: 2 7\n",
      "14: 5 12\n",
      "15: 5 12\n",
      "16: 0 4\n",
      "17: 3 9\n",
      "18: 6 14\n",
      "19: 6 14\n",
      "20: 1 6\n"
     ]
    }
   ],
   "source": [
    "def steps(n_value):\n",
    "    incre_count1 = incre_count2=0\n",
    "    while n_value != 1:\n",
    "        if n_value & 1:\n",
    "            ### Calculating the Odd Values\n",
    "             n_value = 3 * n_value + 1\n",
    "             incre_count1 += 1\n",
    "        else:\n",
    "             ### Calculating the Even Values\n",
    "             n_value = n_value // 2 \n",
    "             incre_count2 += 1     \n",
    "    return incre_count1, incre_count2\n",
    "ran_value=range(1,21)    \n",
    "for i in ran_value:\n",
    "  return_val = steps(i) \n",
    "  print(str(i) + \": \"+ str(return_val[0])+\" \"+str(return_val[1]))"
   ]
  },
  {
   "cell_type": "code",
   "execution_count": 22,
   "metadata": {},
   "outputs": [
    {
     "name": "stdout",
     "output_type": "stream",
     "text": [
      "15 : (9, 19)\n",
      "30 : (27, 111)\n",
      "45 : (27, 111)\n",
      "60 : (54, 112)\n",
      "75 : (73, 115)\n",
      "90 : (73, 115)\n",
      "105 : (97, 118)\n"
     ]
    }
   ],
   "source": [
    "def Longest_Progre_Walrusope(m):\n",
    "  large_num_prog,max_stop_time=0,0\n",
    "  for i in range(1,m+1):\n",
    "    if (wal_pro:=sum(steps(i))) > max_stop_time:\n",
    "      max_stop_time = wal_pro\n",
    "      large_num_prog = i\n",
    "  return large_num_prog,max_stop_time\n",
    "for i in range(15,106,15):\n",
    "  long_result= Longest_Progre_Walrusope(i)  \n",
    "  print(str(i)+\" : \"+str(long_result))"
   ]
  },
  {
   "cell_type": "code",
   "execution_count": null,
   "metadata": {},
   "outputs": [],
   "source": []
  }
 ],
 "metadata": {
  "kernelspec": {
   "display_name": "Python 3.9",
   "language": "python",
   "name": "python3"
  },
  "language_info": {
   "codemirror_mode": {
    "name": "ipython",
    "version": 3
   },
   "file_extension": ".py",
   "mimetype": "text/x-python",
   "name": "python",
   "nbconvert_exporter": "python",
   "pygments_lexer": "ipython3",
   "version": "3.9.9"
  }
 },
 "nbformat": 4,
 "nbformat_minor": 4
}
