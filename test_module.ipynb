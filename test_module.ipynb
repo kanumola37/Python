{
 "cells": [
  {
   "cell_type": "code",
   "execution_count": 28,
   "id": "0248d4f7",
   "metadata": {},
   "outputs": [],
   "source": [
    "from food_data import find\n",
    "from food_data import util\n",
    "from food_data import compare\n",
    "import food_data\n",
    "import importlib\n",
    "importlib.reload(find)\n",
    "importlib.reload(compare)\n",
    "importlib.reload(util)\n",
    "importlib.reload(food_data)\n",
    "import warnings\n",
    "warnings.filterwarnings(\"ignore\")"
   ]
  },
  {
   "cell_type": "markdown",
   "id": "2748f094",
   "metadata": {},
   "source": [
    "# 1a. Data Utilities (15 pts)\n",
    "<p>Created files according to the requirements Create a util.py module that has three methods: download_data, get_data, and parse_ingredients.\n",
    "\n",
    "The download_data method should download the food-data-sample.json datafile and store it locally. The get_data method should load the data in a module variable. Assume that the data file resides in the same directory as util.py. You can then get its absolute path via the __file__ variable of the module via:</p>\n",
    "<p>Created the Modules according to the requirements and placed them in Data Utlilities File</p>"
   ]
  },
  {
   "cell_type": "markdown",
   "id": "175d6fe5",
   "metadata": {},
   "source": [
    "# 1b. Finding Items"
   ]
  },
  {
   "cell_type": "code",
   "execution_count": 29,
   "id": "bde23aad",
   "metadata": {},
   "outputs": [
    {
     "data": {
      "text/plain": [
       "['QUAKER, OAT BRAN, HOT CEREAL',\n",
       " 'QUAKER, OLD FASHIONED OATS',\n",
       " 'QUAKER, INSTANT OATMEAL, BANANA NUT',\n",
       " 'Quaker Oat Bran Hot Cereal 16 Ounce Box',\n",
       " 'Quaker Corn Crunch Toasted Corn & Oat Cereal 15 Ounce Paper Box']"
      ]
     },
     "execution_count": 29,
     "metadata": {},
     "output_type": "execute_result"
    }
   ],
   "source": [
    "[d['description'] for d in food_data.find.get_by_description(\"Quaker*Oat\")]"
   ]
  },
  {
   "cell_type": "markdown",
   "id": "912f7626",
   "metadata": {},
   "source": [
    "# 1c. Comparison"
   ]
  },
  {
   "cell_type": "code",
   "execution_count": 30,
   "id": "5118730a",
   "metadata": {},
   "outputs": [
    {
     "data": {
      "text/plain": [
       "[('Serving Size', 0.0, 'g'),\n",
       " ('Fiber', 0.0, 'g'),\n",
       " ('Saturated Fat', 0.0, 'g'),\n",
       " ('Carbohydrates', -0.8300000000000001, 'g'),\n",
       " ('Sodium', 137.0, 'mg'),\n",
       " ('Total Fat', -0.41, 'g'),\n",
       " ('Protein', 0.0, 'g'),\n",
       " ('Calories', -12.0, 'kcal'),\n",
       " ('Sugar', -2.48, 'g')]"
      ]
     },
     "execution_count": 30,
     "metadata": {},
     "output_type": "execute_result"
    }
   ],
   "source": [
    "food_data.compare.diff_nutrition(345534, 604974)"
   ]
  },
  {
   "cell_type": "code",
   "execution_count": 31,
   "id": "8368deb0",
   "metadata": {},
   "outputs": [],
   "source": [
    "# We have same results, Only the place of values are different. edit: (serving_size have been updated to Serving Size)\n",
    "\n",
    "# [('Serving Size', 0.0, 'g'),\n",
    "#  ('Total Fat', -0.41, 'G'),\n",
    "#  ('Fiber', 0.0, 'G'),\n",
    "#  ('Calories', -12.0, 'KCAL'),\n",
    "#  ('Protein', 0.0, 'G'),\n",
    "#  ('Sugar', -2.48, 'G'),\n",
    "#  ('Saturated Fat', 0.0, 'G'),\n",
    "#  ('Sodium', 137.0, 'MG'),\n",
    "#  ('Carbohydrates', -0.8300000000000001, 'G')]"
   ]
  },
  {
   "cell_type": "code",
   "execution_count": 32,
   "id": "ee5873a7",
   "metadata": {},
   "outputs": [
    {
     "data": {
      "text/plain": [
       "({' Calcium Chloride', ' Citric Acid', ' Tomato Juice', 'Tomatoes'},\n",
       " {' Less Than 2% of: Salt'},\n",
       " {' Dried Garlic',\n",
       "  ' Dried Onion',\n",
       "  ' Natural Flavor',\n",
       "  ' Olive Oil',\n",
       "  ' Salt',\n",
       "  ' Soybean Oil',\n",
       "  ' Spices'})"
      ]
     },
     "execution_count": 32,
     "metadata": {},
     "output_type": "execute_result"
    }
   ],
   "source": [
    "food_data.compare.diff_ingredients(345534, 604974)"
   ]
  },
  {
   "cell_type": "markdown",
   "id": "40f9a644",
   "metadata": {},
   "source": [
    "# 2. Command-Line Programs"
   ]
  },
  {
   "cell_type": "markdown",
   "id": "b27c8364",
   "metadata": {},
   "source": [
    "## 2a. food_data.find"
   ]
  },
  {
   "cell_type": "code",
   "execution_count": 33,
   "id": "30332e82",
   "metadata": {},
   "outputs": [
    {
     "name": "stdout",
     "output_type": "stream",
     "text": [
      "Usage: python -m food_data.find -b <brand> | -d <description> \n"
     ]
    }
   ],
   "source": [
    "%run -m food_data.find"
   ]
  },
  {
   "cell_type": "code",
   "execution_count": 34,
   "id": "9fea485f",
   "metadata": {},
   "outputs": [
    {
     "name": "stdout",
     "output_type": "stream",
     "text": [
      "538773 The Quaker Oats Company QUAKER, OAT BRAN, HOT CEREAL\n",
      "539625 The Quaker Oats Company QUAKER, OLD FASHIONED OATS\n",
      "540325 The Quaker Oats Company QUAKER, INSTANT OATMEAL, BANANA NUT\n",
      "767774 QTG Quaker Oat Bran Hot Cereal 16 Ounce Box\n",
      "768340 QTG Quaker Corn Crunch Toasted Corn & Oat Cereal 15 Ounce Paper Box\n"
     ]
    }
   ],
   "source": [
    "%run -m food_data.find -d \"Quaker*Oat\""
   ]
  },
  {
   "cell_type": "markdown",
   "id": "9b1f2333",
   "metadata": {},
   "source": [
    "## 2b. food_data.compare"
   ]
  },
  {
   "cell_type": "code",
   "execution_count": 35,
   "id": "e741fc12",
   "metadata": {},
   "outputs": [
    {
     "name": "stdout",
     "output_type": "stream",
     "text": [
      "Serving Size: +0.0 g\n",
      "Fiber: +0.0 g\n",
      "Saturated Fat: +0.0 g\n",
      "Carbohydrates: -0.83 g\n",
      "Sodium: +137.0 mg\n",
      "Total Fat: -0.41 g\n",
      "Protein: +0.0 g\n",
      "Calories: -12.0 kcal\n",
      "Sugar: -2.48 g\n"
     ]
    }
   ],
   "source": [
    "%run -m food_data.compare -n 345534 604974"
   ]
  },
  {
   "cell_type": "code",
   "execution_count": 36,
   "id": "6c7c9c2f",
   "metadata": {},
   "outputs": [
    {
     "name": "stdout",
     "output_type": "stream",
     "text": [
      " Calcium Chloride\n",
      " Citric Acid\n",
      " Tomato Juice\n",
      " Tomatoes\n",
      "-Less Than 2% of: Salt\n",
      "+Salt\n",
      "+Olive Oil\n",
      "+Dried Onion\n",
      "+Soybean Oil\n",
      "+Dried Garlic\n",
      "+Spices\n",
      "+Natural Flavor\n"
     ]
    }
   ],
   "source": [
    "%run -m food_data.compare -i 345534 604974"
   ]
  },
  {
   "cell_type": "markdown",
   "id": "4d30c76c",
   "metadata": {},
   "source": [
    "# 3. [CSCI 503 Only] Add Category Filtering (15 pts)"
   ]
  },
  {
   "cell_type": "code",
   "execution_count": 37,
   "id": "fc77f7c9",
   "metadata": {},
   "outputs": [
    {
     "name": "stdout",
     "output_type": "stream",
     "text": [
      "525081 The Quaker Oats Company PEANUT BUTTER OATMEAL COOKIES\n",
      "713124 The Quaker Oats Company PEANUT BUTTER SANDWICH MINIS FILLED BISCUIT BITES, PEANUT BUTTER\n"
     ]
    }
   ],
   "source": [
    "%run -m food_data.find -c \"Cookies & Biscuits\" -b \"The Quaker Oats Company\""
   ]
  },
  {
   "cell_type": "code",
   "execution_count": 38,
   "id": "78d09e16",
   "metadata": {},
   "outputs": [
    {
     "name": "stdout",
     "output_type": "stream",
     "text": [
      "525081 The Quaker Oats Company PEANUT BUTTER OATMEAL COOKIES\n",
      "713124 The Quaker Oats Company PEANUT BUTTER SANDWICH MINIS FILLED BISCUIT BITES, PEANUT BUTTER\n"
     ]
    }
   ],
   "source": [
    "%run -m food_data.find -b \"The Quaker Oats Company\" -c \"Cookies & Biscuits\""
   ]
  },
  {
   "cell_type": "markdown",
   "id": "4af0f5fd",
   "metadata": {},
   "source": [
    "# Extra Credit"
   ]
  },
  {
   "cell_type": "markdown",
   "id": "8b260d27",
   "metadata": {},
   "source": [
    "### Now Users can toggle flag ( to scale nutrients according to serving size ) by giving an argumnet of \"yes\" or \"no\" at the end of command for compare function."
   ]
  },
  {
   "cell_type": "code",
   "execution_count": 39,
   "id": "03255282",
   "metadata": {},
   "outputs": [
    {
     "name": "stdout",
     "output_type": "stream",
     "text": [
      "Serving Size: -58.0 g\n",
      "Fiber: -1.22 g\n",
      "Saturated Fat: +0.59 g\n",
      "Carbohydrates: +2.35 g\n",
      "Sodium: +93.78 mg\n",
      "Total Fat: +1.18 g\n",
      "Protein: +0.0 g\n",
      "Calories: +23.04 kcal\n",
      "Sugar: +7.06 g\n"
     ]
    }
   ],
   "source": [
    "%run -m food_data.compare -n 349509 349999 \"yes\""
   ]
  },
  {
   "cell_type": "code",
   "execution_count": 40,
   "id": "08d5722b",
   "metadata": {},
   "outputs": [
    {
     "name": "stdout",
     "output_type": "stream",
     "text": [
      "Serving Size: -58.0 g\n",
      "Fiber: +1.3 g\n",
      "Saturated Fat: +1.85 g\n",
      "Carbohydrates: +50.37 g\n",
      "Sodium: +321.0 mg\n",
      "Total Fat: +12.55 g\n",
      "Protein: +5.06 g\n",
      "Calories: +326.0 kcal\n",
      "Sugar: +24.75 g\n"
     ]
    }
   ],
   "source": [
    "%run -m food_data.compare -n 349509 349999 \"no\""
   ]
  }
 ],
 "metadata": {
  "kernelspec": {
   "display_name": "Python 3 (ipykernel)",
   "language": "python",
   "name": "python3"
  },
  "language_info": {
   "codemirror_mode": {
    "name": "ipython",
    "version": 3
   },
   "file_extension": ".py",
   "mimetype": "text/x-python",
   "name": "python",
   "nbconvert_exporter": "python",
   "pygments_lexer": "ipython3",
   "version": "3.9.7"
  }
 },
 "nbformat": 4,
 "nbformat_minor": 5
}
