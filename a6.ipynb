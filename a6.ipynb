{
 "cells": [
  {
   "cell_type": "markdown",
   "metadata": {},
   "source": [
    "<p>Name : Anumola Kishore Kumar </p>\n",
    "<p>ZID : 1942332 </p>\n",
    "<p>Assignment : We will be implementing a collection of classes that work together to orchestrate an online market. There will be products, including both grocery and household, the inventory, and a customer’s shopping cart.</p>"
   ]
  },
  {
   "cell_type": "markdown",
   "metadata": {},
   "source": [
    "# 1. Product Classes (20 pts)"
   ]
  },
  {
   "cell_type": "code",
   "execution_count": 1,
   "metadata": {},
   "outputs": [],
   "source": [
    "class StoreItem:\n",
    "    def __init__(self, Name = \"\", SKU = 0, PRICE = 0):\n",
    "        self.name = Name\n",
    "        self.sku = SKU\n",
    "        self.price = PRICE\n",
    "    def __str__(self):\n",
    "        return f\"{self.name} ({self.sku}) @ {self.price}\""
   ]
  },
  {
   "cell_type": "code",
   "execution_count": 2,
   "metadata": {},
   "outputs": [],
   "source": [
    "class GroceryItem(StoreItem):\n",
    "    def __init__(self, Name = \"\", SKU = 0, PRICE = 0, NUTR = {}):\n",
    "        self.nutrition = NUTR\n",
    "        StoreItem.__init__(self, Name, SKU, PRICE)\n",
    "\n",
    "    def __str__(self):\n",
    "        return f\"{self.name} ({self.sku}) @ {self.price}\""
   ]
  },
  {
   "cell_type": "code",
   "execution_count": 3,
   "metadata": {},
   "outputs": [],
   "source": [
    "class HouseholdItem(StoreItem):\n",
    "    def __init__(self, Name = \"\", SKU = 0, PRICE = 0, BRAND = \"\"):\n",
    "        self.brand_Name = BRAND\n",
    "        StoreItem.__init__(self, Name, SKU, PRICE)\n",
    "    def __str__(self):\n",
    "        return f\"{self.name} ({self.sku}) @ {self.price} by {self.brand_Name}\""
   ]
  },
  {
   "cell_type": "code",
   "execution_count": 4,
   "metadata": {},
   "outputs": [],
   "source": [
    "class BulkItem(GroceryItem):\n",
    "    def __init__(self, Name = \"\", SKU = 0, PRICE = 0, UNIT = \"\"):\n",
    "        self.unit = UNIT\n",
    "        GroceryItem.__init__(self, Name, SKU, PRICE)\n",
    "\n",
    "    def __str__(self):\n",
    "        return f\"{self.name} ({self.sku}) @ {self.price}/{self.unit}\""
   ]
  },
  {
   "cell_type": "code",
   "execution_count": 5,
   "metadata": {},
   "outputs": [],
   "source": [
    "cereal = GroceryItem(\"Cheerios\", 38942, 3.99, {'calories': 200, 'fat': 0})\n",
    "bananas = BulkItem(\"Bananas\", 4011, 0.59, \"lb\")"
   ]
  },
  {
   "cell_type": "code",
   "execution_count": 6,
   "metadata": {},
   "outputs": [
    {
     "name": "stdout",
     "output_type": "stream",
     "text": [
      "Two items: Cheerios (38942) @ 3.99, Bananas (4011) @ 0.59/lb\n"
     ]
    }
   ],
   "source": [
    "print(f\"Two items: {cereal}, {bananas}\")"
   ]
  },
  {
   "cell_type": "markdown",
   "metadata": {},
   "source": [
    "# 2. Inventory Class (20 pts)"
   ]
  },
  {
   "cell_type": "code",
   "execution_count": 7,
   "metadata": {},
   "outputs": [],
   "source": [
    "class inventory:\n",
    "\n",
    "    def __init__(self):\n",
    "        self.sku_amounts = {}\n",
    "        self.item_obj = {}\n",
    "    def add_items(self, item, amount = 1):\n",
    "        if(isinstance(item, BulkItem)):\n",
    "            self.item_obj[item.sku] = item\n",
    "            self.sku_amounts[item.sku] = self.sku_amounts.get(item.sku, 0) + amount\n",
    "        else:\n",
    "            if(isinstance(amount, int)):\n",
    "                self.item_obj[item.sku] = item\n",
    "                self.sku_amounts[item.sku] = self.sku_amounts.get(item.sku, 0) + amount\n",
    "            else:\n",
    "                raise Exception(\"Add or remove a non-integer amount of an item that is not a BulkItem\")\n",
    "    \n",
    "    def remove_items(self, item, amount):\n",
    "        if(isinstance(item, BulkItem)):\n",
    "            if(self.sku_amounts[item.sku] >= amount):\n",
    "                self.sku_amounts[item.sku] = self.sku_amounts.get(item.sku, 0) - amount\n",
    "            else:\n",
    "                raise Exception(\"More items are removed from the inventory than exist\")\n",
    "        else:\n",
    "            if(isinstance(amount, int)):\n",
    "                if(self.sku_amounts[item.sku] >= amount):\n",
    "                    self.sku_amounts[item.sku] = self.sku_amounts.get(item.sku, 0) - amount\n",
    "                else:\n",
    "                    raise Exception(\"More items are removed from the inventory than exist\")\n",
    "            else:\n",
    "                raise Exception(\"Add or remove a non-integer amount of an item that is not a BulkItem\")\n",
    "                \n",
    "    def find_item(self, SKU):\n",
    "        for sku, amount in self.sku_amounts.items():\n",
    "            if(sku == SKU):\n",
    "                return self.item_obj[sku]\n",
    "        raise Exception(\"sku doesn't exist\") \n",
    "\n",
    "    def has_enough(self, Item, Amount):\n",
    "        for sku, amount in self.sku_amounts.items():\n",
    "            if(sku == Item.sku):\n",
    "                if(amount > Amount):\n",
    "                    return True\n",
    "                else:\n",
    "                    return False\n",
    "    def __str__(self):\n",
    "        text = \"\"\n",
    "        for sku, amount in self.sku_amounts.items():\n",
    "            text += (f\"{amount} {self.item_obj[sku]}\")\n",
    "            text += \"\\n\"\n",
    "        return text"
   ]
  },
  {
   "cell_type": "code",
   "execution_count": 8,
   "metadata": {},
   "outputs": [],
   "source": [
    "inv = inventory()"
   ]
  },
  {
   "cell_type": "code",
   "execution_count": 9,
   "metadata": {},
   "outputs": [],
   "source": [
    "inv.add_items(GroceryItem(\"Cheerios\",38942, 3.99, {'calories': 200, 'fat': 0}), 20)"
   ]
  },
  {
   "cell_type": "code",
   "execution_count": 10,
   "metadata": {},
   "outputs": [
    {
     "name": "stdout",
     "output_type": "stream",
     "text": [
      "Cheerios (38942) @ 3.99\n"
     ]
    }
   ],
   "source": [
    "prod = (inv.find_item(38942))\n",
    "print(prod)"
   ]
  },
  {
   "cell_type": "code",
   "execution_count": 11,
   "metadata": {},
   "outputs": [
    {
     "data": {
      "text/plain": [
       "True"
      ]
     },
     "execution_count": 11,
     "metadata": {},
     "output_type": "execute_result"
    }
   ],
   "source": [
    "inv.has_enough(prod, 10)"
   ]
  },
  {
   "cell_type": "code",
   "execution_count": 12,
   "metadata": {},
   "outputs": [
    {
     "name": "stdout",
     "output_type": "stream",
     "text": [
      "20 Cheerios (38942) @ 3.99\n",
      "\n"
     ]
    }
   ],
   "source": [
    "print(inv)"
   ]
  },
  {
   "cell_type": "markdown",
   "metadata": {},
   "source": [
    "# 3. ShoppingCart Class (20 pts)"
   ]
  },
  {
   "cell_type": "code",
   "execution_count": 13,
   "metadata": {},
   "outputs": [],
   "source": [
    "class ShoppingCart(inventory):\n",
    "    \n",
    "    def __init__(self):\n",
    "        inventory.__init__(self)\n",
    "\n",
    "    def cost(self):\n",
    "        total_cost = 0\n",
    "        for sku, amount in self.sku_amounts.items():\n",
    "            total_cost += self.item_obj[sku].price * amount\n",
    "        return total_cost\n",
    "    \n",
    "    def __iadd__(self, item):\n",
    "        self.add_items(item, 1)\n",
    "        return self\n",
    "\n",
    "    def __isub__(self, item):\n",
    "        self.remove_items(item, 1)\n",
    "        return self\n",
    "    \n",
    "    def moveItemTo(self, cart, item):\n",
    "        cart.add_items(item, 1)\n",
    "        self.remove_items(item, 1)"
   ]
  },
  {
   "cell_type": "code",
   "execution_count": 14,
   "metadata": {},
   "outputs": [],
   "source": [
    "cart = ShoppingCart()"
   ]
  },
  {
   "cell_type": "code",
   "execution_count": 15,
   "metadata": {},
   "outputs": [],
   "source": [
    "cart.add_items(GroceryItem(\"Cheerios\",38942, 3.99, {'calories': 200, 'fat': 0}), 5)\n",
    "cart.add_items(GroceryItem(\"mango\",38943, 35.99, {'calories': 200, 'fat': 0}), 3)\n",
    "cart.add_items(GroceryItem(\"Bat\",38944, 3500.99), 2)"
   ]
  },
  {
   "cell_type": "code",
   "execution_count": 16,
   "metadata": {},
   "outputs": [
    {
     "data": {
      "text/plain": [
       "7129.9"
      ]
     },
     "execution_count": 16,
     "metadata": {},
     "output_type": "execute_result"
    }
   ],
   "source": [
    "cart.cost()"
   ]
  },
  {
   "cell_type": "code",
   "execution_count": 17,
   "metadata": {},
   "outputs": [],
   "source": [
    "cart -= GroceryItem(\"Cheerios\",38942, 3.99, {'calories': 200, 'fat': 0})"
   ]
  },
  {
   "cell_type": "code",
   "execution_count": 18,
   "metadata": {},
   "outputs": [
    {
     "name": "stdout",
     "output_type": "stream",
     "text": [
      "4 Cheerios (38942) @ 3.99\n",
      "3 mango (38943) @ 35.99\n",
      "2 Bat (38944) @ 3500.99\n",
      "\n"
     ]
    }
   ],
   "source": [
    "print(cart)"
   ]
  },
  {
   "cell_type": "code",
   "execution_count": 19,
   "metadata": {},
   "outputs": [],
   "source": [
    "cart += GroceryItem(\"Cheerios\",38942, 3.99, {'calories': 200, 'fat': 0})"
   ]
  },
  {
   "cell_type": "code",
   "execution_count": 20,
   "metadata": {},
   "outputs": [
    {
     "name": "stdout",
     "output_type": "stream",
     "text": [
      "5 Cheerios (38942) @ 3.99\n",
      "3 mango (38943) @ 35.99\n",
      "2 Bat (38944) @ 3500.99\n",
      "\n"
     ]
    }
   ],
   "source": [
    "print(cart)"
   ]
  },
  {
   "cell_type": "markdown",
   "metadata": {},
   "source": [
    "# Extra Credit: Support for transferring items from one shopping cart to another (10)"
   ]
  },
  {
   "cell_type": "code",
   "execution_count": 21,
   "metadata": {},
   "outputs": [],
   "source": [
    "tempCart = ShoppingCart()"
   ]
  },
  {
   "cell_type": "code",
   "execution_count": 22,
   "metadata": {},
   "outputs": [],
   "source": [
    "cart.moveItemTo(tempCart, GroceryItem(\"Cheerios\",38942, 3.99, {'calories': 200, 'fat': 0}))"
   ]
  },
  {
   "cell_type": "code",
   "execution_count": 23,
   "metadata": {},
   "outputs": [
    {
     "name": "stdout",
     "output_type": "stream",
     "text": [
      "1 Cheerios (38942) @ 3.99\n",
      "\n"
     ]
    }
   ],
   "source": [
    "print(tempCart)"
   ]
  },
  {
   "cell_type": "code",
   "execution_count": 24,
   "metadata": {},
   "outputs": [
    {
     "name": "stdout",
     "output_type": "stream",
     "text": [
      "4 Cheerios (38942) @ 3.99\n",
      "3 mango (38943) @ 35.99\n",
      "2 Bat (38944) @ 3500.99\n",
      "\n"
     ]
    }
   ],
   "source": [
    "print(cart)"
   ]
  },
  {
   "cell_type": "markdown",
   "metadata": {},
   "source": [
    "# 4. Store Class (20 pts)"
   ]
  },
  {
   "cell_type": "code",
   "execution_count": 25,
   "metadata": {},
   "outputs": [],
   "source": [
    "class Store(inventory):\n",
    "    def __init__(self):\n",
    "        self.MAX_CARTS = 10\n",
    "        self.count = 0\n",
    "        inventory.__init__(self)\n",
    "        self.inventory = inventory()\n",
    "        \n",
    "    def get_cart(self):\n",
    "        \n",
    "        cart_obj = inventory()\n",
    "        self.count += 1\n",
    "        if(self.count < 10):\n",
    "            return cart_obj\n",
    "        else:\n",
    "            raise Exception(\" (too many carts) MAXCART limit is reached\")\n",
    "    \n",
    "    def checkout(self, cart):\n",
    "        \n",
    "        total_cost = 0\n",
    "        for sku, amount in cart.sku_amounts.items():\n",
    "            if(self.inventory.sku_amounts[sku] >= amount):\n",
    "                self.inventory.sku_amounts[sku] -= amount\n",
    "                total_cost += ( amount * self.inventory.item_obj[sku].price)\n",
    "        return total_cost"
   ]
  },
  {
   "cell_type": "markdown",
   "metadata": {},
   "source": [
    "# 6 Summary and Testing"
   ]
  },
  {
   "cell_type": "code",
   "execution_count": 26,
   "metadata": {},
   "outputs": [
    {
     "name": "stdout",
     "output_type": "stream",
     "text": [
      "Inventory:\n",
      "10 Cheerios (38942) @ 3.99\n",
      "30 Trash Bags (38902) @ 5.99 by Hefty\n",
      "20 Bananas (4011) @ 0.59/lb\n",
      "25 Lettuce (3982) @ 2.99/head\n",
      "1 Oreos (27894) @ 3.29\n",
      "\n",
      "Cart:\n",
      "3 Bananas (4011) @ 0.59/lb\n",
      "1 Trash Bags (38902) @ 5.99 by Hefty\n",
      "1 Oreos (27894) @ 3.29\n",
      "\n",
      "You spent $11.05\n",
      "Updated Inventory:\n",
      "10 Cheerios (38942) @ 3.99\n",
      "29 Trash Bags (38902) @ 5.99 by Hefty\n",
      "17 Bananas (4011) @ 0.59/lb\n",
      "25 Lettuce (3982) @ 2.99/head\n",
      "0 Oreos (27894) @ 3.29\n",
      "\n"
     ]
    }
   ],
   "source": [
    "store = Store()\n",
    "store = Store()\n",
    "store.inventory.add_items(GroceryItem(\"Cheerios\", 38942, 3.99, {'calories': 200, 'fat': 0}), 10)\n",
    "store.inventory.add_items(HouseholdItem(\"Trash Bags\", 38902, 5.99, \"Hefty\"), 30)\n",
    "store.inventory.add_items(BulkItem(\"Bananas\", 4011, 0.59, \"lb\"), 20)\n",
    "store.inventory.add_items(BulkItem(\"Lettuce\", 3982, 2.99, \"head\"), 25)\n",
    "store.inventory.add_items(GroceryItem(\"Oreos\", 27894, 3.29), 1)\n",
    "print(\"Inventory:\")\n",
    "print(store.inventory)\n",
    "my_cart = store.get_cart()\n",
    "my_cart.add_items(store.inventory.find_item(4011), 3)\n",
    "my_cart.add_items(store.inventory.find_item(38902))\n",
    "my_cart.add_items(store.inventory.find_item(27894), 1)\n",
    "print(\"Cart:\")\n",
    "print(my_cart)\n",
    "total_cost = store.checkout(my_cart)\n",
    "print(f\"You spent ${total_cost}\")\n",
    "print(\"Updated Inventory:\")\n",
    "print(store.inventory)"
   ]
  },
  {
   "cell_type": "markdown",
   "metadata": {},
   "source": [
    "# 5. [CS503 Only] Exceptions (15 pts)"
   ]
  },
  {
   "cell_type": "code",
   "execution_count": 29,
   "metadata": {},
   "outputs": [],
   "source": [
    "my_cart = store.get_cart()"
   ]
  },
  {
   "cell_type": "code",
   "execution_count": 30,
   "metadata": {},
   "outputs": [
    {
     "ename": "Exception",
     "evalue": "sku doesn't exist",
     "output_type": "error",
     "traceback": [
      "\u001b[0;31m---------------------------------------------------------------------------\u001b[0m",
      "\u001b[0;31mException\u001b[0m                                 Traceback (most recent call last)",
      "Input \u001b[0;32mIn [30]\u001b[0m, in \u001b[0;36m<module>\u001b[0;34m\u001b[0m\n\u001b[0;32m----> 1\u001b[0m my_cart\u001b[38;5;241m.\u001b[39madd_items(\u001b[43mstore\u001b[49m\u001b[38;5;241;43m.\u001b[39;49m\u001b[43minventory\u001b[49m\u001b[38;5;241;43m.\u001b[39;49m\u001b[43mfind_item\u001b[49m\u001b[43m(\u001b[49m\u001b[38;5;241;43m4013\u001b[39;49m\u001b[43m)\u001b[49m, \u001b[38;5;241m3\u001b[39m)\n",
      "Input \u001b[0;32mIn [7]\u001b[0m, in \u001b[0;36minventory.find_item\u001b[0;34m(self, SKU)\u001b[0m\n\u001b[1;32m     34\u001b[0m     \u001b[38;5;28;01mif\u001b[39;00m(sku \u001b[38;5;241m==\u001b[39m SKU):\n\u001b[1;32m     35\u001b[0m         \u001b[38;5;28;01mreturn\u001b[39;00m \u001b[38;5;28mself\u001b[39m\u001b[38;5;241m.\u001b[39mitem_obj[sku]\n\u001b[0;32m---> 36\u001b[0m \u001b[38;5;28;01mraise\u001b[39;00m \u001b[38;5;167;01mException\u001b[39;00m(\u001b[38;5;124m\"\u001b[39m\u001b[38;5;124msku doesn\u001b[39m\u001b[38;5;124m'\u001b[39m\u001b[38;5;124mt exist\u001b[39m\u001b[38;5;124m\"\u001b[39m)\n",
      "\u001b[0;31mException\u001b[0m: sku doesn't exist"
     ]
    }
   ],
   "source": [
    "my_cart.add_items(store.inventory.find_item(4013), 3) # raises your  exception"
   ]
  },
  {
   "cell_type": "code",
   "execution_count": 31,
   "metadata": {},
   "outputs": [
    {
     "ename": "Exception",
     "evalue": "Add or remove a non-integer amount of an item that is not a BulkItem",
     "output_type": "error",
     "traceback": [
      "\u001b[0;31m---------------------------------------------------------------------------\u001b[0m",
      "\u001b[0;31mException\u001b[0m                                 Traceback (most recent call last)",
      "Input \u001b[0;32mIn [31]\u001b[0m, in \u001b[0;36m<module>\u001b[0;34m\u001b[0m\n\u001b[0;32m----> 1\u001b[0m \u001b[43mmy_cart\u001b[49m\u001b[38;5;241;43m.\u001b[39;49m\u001b[43madd_items\u001b[49m\u001b[43m(\u001b[49m\u001b[43mstore\u001b[49m\u001b[38;5;241;43m.\u001b[39;49m\u001b[43minventory\u001b[49m\u001b[38;5;241;43m.\u001b[39;49m\u001b[43mfind_item\u001b[49m\u001b[43m(\u001b[49m\u001b[38;5;241;43m38902\u001b[39;49m\u001b[43m)\u001b[49m\u001b[43m,\u001b[49m\u001b[43m \u001b[49m\u001b[38;5;241;43m1.5\u001b[39;49m\u001b[43m)\u001b[49m\n",
      "Input \u001b[0;32mIn [7]\u001b[0m, in \u001b[0;36minventory.add_items\u001b[0;34m(self, item, amount)\u001b[0m\n\u001b[1;32m     13\u001b[0m     \u001b[38;5;28mself\u001b[39m\u001b[38;5;241m.\u001b[39msku_amounts[item\u001b[38;5;241m.\u001b[39msku] \u001b[38;5;241m=\u001b[39m \u001b[38;5;28mself\u001b[39m\u001b[38;5;241m.\u001b[39msku_amounts\u001b[38;5;241m.\u001b[39mget(item\u001b[38;5;241m.\u001b[39msku, \u001b[38;5;241m0\u001b[39m) \u001b[38;5;241m+\u001b[39m amount\n\u001b[1;32m     14\u001b[0m \u001b[38;5;28;01melse\u001b[39;00m:\n\u001b[0;32m---> 15\u001b[0m     \u001b[38;5;28;01mraise\u001b[39;00m \u001b[38;5;167;01mException\u001b[39;00m(\u001b[38;5;124m\"\u001b[39m\u001b[38;5;124mAdd or remove a non-integer amount of an item that is not a BulkItem\u001b[39m\u001b[38;5;124m\"\u001b[39m)\n",
      "\u001b[0;31mException\u001b[0m: Add or remove a non-integer amount of an item that is not a BulkItem"
     ]
    }
   ],
   "source": [
    "my_cart.add_items(store.inventory.find_item(38902), 1.5) # raises your exception"
   ]
  },
  {
   "cell_type": "code",
   "execution_count": 32,
   "metadata": {},
   "outputs": [
    {
     "ename": "Exception",
     "evalue": "More items are removed from the inventory than exist",
     "output_type": "error",
     "traceback": [
      "\u001b[0;31m---------------------------------------------------------------------------\u001b[0m",
      "\u001b[0;31mException\u001b[0m                                 Traceback (most recent call last)",
      "Input \u001b[0;32mIn [32]\u001b[0m, in \u001b[0;36m<module>\u001b[0;34m\u001b[0m\n\u001b[0;32m----> 1\u001b[0m \u001b[43mstore\u001b[49m\u001b[38;5;241;43m.\u001b[39;49m\u001b[43minventory\u001b[49m\u001b[38;5;241;43m.\u001b[39;49m\u001b[43mremove_items\u001b[49m\u001b[43m(\u001b[49m\u001b[43mstore\u001b[49m\u001b[38;5;241;43m.\u001b[39;49m\u001b[43minventory\u001b[49m\u001b[38;5;241;43m.\u001b[39;49m\u001b[43mfind_item\u001b[49m\u001b[43m(\u001b[49m\u001b[38;5;241;43m27894\u001b[39;49m\u001b[43m)\u001b[49m\u001b[43m,\u001b[49m\u001b[43m \u001b[49m\u001b[38;5;241;43m3\u001b[39;49m\u001b[43m)\u001b[49m\n",
      "Input \u001b[0;32mIn [7]\u001b[0m, in \u001b[0;36minventory.remove_items\u001b[0;34m(self, item, amount)\u001b[0m\n\u001b[1;32m     26\u001b[0m         \u001b[38;5;28mself\u001b[39m\u001b[38;5;241m.\u001b[39msku_amounts[item\u001b[38;5;241m.\u001b[39msku] \u001b[38;5;241m=\u001b[39m \u001b[38;5;28mself\u001b[39m\u001b[38;5;241m.\u001b[39msku_amounts\u001b[38;5;241m.\u001b[39mget(item\u001b[38;5;241m.\u001b[39msku, \u001b[38;5;241m0\u001b[39m) \u001b[38;5;241m-\u001b[39m amount\n\u001b[1;32m     27\u001b[0m     \u001b[38;5;28;01melse\u001b[39;00m:\n\u001b[0;32m---> 28\u001b[0m         \u001b[38;5;28;01mraise\u001b[39;00m \u001b[38;5;167;01mException\u001b[39;00m(\u001b[38;5;124m\"\u001b[39m\u001b[38;5;124mMore items are removed from the inventory than exist\u001b[39m\u001b[38;5;124m\"\u001b[39m)\n\u001b[1;32m     29\u001b[0m \u001b[38;5;28;01melse\u001b[39;00m:\n\u001b[1;32m     30\u001b[0m     \u001b[38;5;28;01mraise\u001b[39;00m \u001b[38;5;167;01mException\u001b[39;00m(\u001b[38;5;124m\"\u001b[39m\u001b[38;5;124mAdd or remove a non-integer amount of an item that is not a BulkItem\u001b[39m\u001b[38;5;124m\"\u001b[39m)\n",
      "\u001b[0;31mException\u001b[0m: More items are removed from the inventory than exist"
     ]
    }
   ],
   "source": [
    "store.inventory.remove_items(store.inventory.find_item(27894), 3) # raises your exception"
   ]
  },
  {
   "cell_type": "markdown",
   "metadata": {},
   "source": [
    "# This code should raise an exception (too many carts):"
   ]
  },
  {
   "cell_type": "code",
   "execution_count": 33,
   "metadata": {},
   "outputs": [
    {
     "ename": "Exception",
     "evalue": " (too many carts) MAXCART limit is reached",
     "output_type": "error",
     "traceback": [
      "\u001b[0;31m---------------------------------------------------------------------------\u001b[0m",
      "\u001b[0;31mException\u001b[0m                                 Traceback (most recent call last)",
      "Input \u001b[0;32mIn [33]\u001b[0m, in \u001b[0;36m<module>\u001b[0;34m\u001b[0m\n\u001b[1;32m      1\u001b[0m \u001b[38;5;28;01mfor\u001b[39;00m i \u001b[38;5;129;01min\u001b[39;00m \u001b[38;5;28mrange\u001b[39m(\u001b[38;5;241m20\u001b[39m):\n\u001b[0;32m----> 2\u001b[0m     \u001b[43mstore\u001b[49m\u001b[38;5;241;43m.\u001b[39;49m\u001b[43mget_cart\u001b[49m\u001b[43m(\u001b[49m\u001b[43m)\u001b[49m\n",
      "Input \u001b[0;32mIn [25]\u001b[0m, in \u001b[0;36mStore.get_cart\u001b[0;34m(self)\u001b[0m\n\u001b[1;32m     13\u001b[0m     \u001b[38;5;28;01mreturn\u001b[39;00m cart_obj\n\u001b[1;32m     14\u001b[0m \u001b[38;5;28;01melse\u001b[39;00m:\n\u001b[0;32m---> 15\u001b[0m     \u001b[38;5;28;01mraise\u001b[39;00m \u001b[38;5;167;01mException\u001b[39;00m(\u001b[38;5;124m\"\u001b[39m\u001b[38;5;124m (too many carts) MAXCART limit is reached\u001b[39m\u001b[38;5;124m\"\u001b[39m)\n",
      "\u001b[0;31mException\u001b[0m:  (too many carts) MAXCART limit is reached"
     ]
    }
   ],
   "source": [
    "for i in range(20):\n",
    "    store.get_cart()"
   ]
  },
  {
   "cell_type": "code",
   "execution_count": null,
   "metadata": {},
   "outputs": [],
   "source": [
    "import shutil\n",
    "shutil.make_archive('../a6', 'zip', '..', 'a6')"
   ]
  }
 ],
 "metadata": {
  "kernelspec": {
   "display_name": "Python 3.9",
   "language": "python",
   "name": "python3"
  },
  "language_info": {
   "codemirror_mode": {
    "name": "ipython",
    "version": 3
   },
   "file_extension": ".py",
   "mimetype": "text/x-python",
   "name": "python",
   "nbconvert_exporter": "python",
   "pygments_lexer": "ipython3",
   "version": "3.9.9"
  }
 },
 "nbformat": 4,
 "nbformat_minor": 4
}
