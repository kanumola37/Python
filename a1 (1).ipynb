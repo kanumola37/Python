{
 "cells": [
  {
   "cell_type": "markdown",
   "metadata": {},
   "source": [
    "### 0. Name & Z-ID (5 pts)\n",
    "The first cell of your notebook should be a markdown cell with a line for your name and a line for your Z-ID. If you wish to add other information (the assignment name, a description of the assignment), you may do so after these two lines."
   ]
  },
  {
   "cell_type": "markdown",
   "metadata": {},
   "source": [
    "<h1>Assignment 1</h1>\n",
    "<h6>Name : Anumola Kishore Kumar</h6>\n",
    "<p>Zid : Z1942332</p>\n",
    "<p>Description : The goal of this assignment is to get acquainted with Python using Jupyter Notebooks.</p>"
   ]
  },
  {
   "cell_type": "markdown",
   "metadata": {},
   "source": [
    "### 1. Hello, DeKalb (5 pts)\n",
    "Write code that prints “Hello, DeKalb” but split into two lines like the following\n",
    "\n",
    "Hello,\n",
    "DeKalb"
   ]
  },
  {
   "cell_type": "code",
   "execution_count": 63,
   "metadata": {},
   "outputs": [
    {
     "name": "stdout",
     "output_type": "stream",
     "text": [
      "Hello,\n",
      "Dekalb\n"
     ]
    }
   ],
   "source": [
    "par1=\"Hello,\\nDekalb\"\n",
    "print(par1)"
   ]
  },
  {
   "cell_type": "markdown",
   "metadata": {},
   "source": [
    "### 2. Hello, <name> (5 pts)\n",
    "Write code that assigns your name (a string) to a variable, and then prints Hello, <name> where <name> comes from the variable. Thus, if you change the string assigned to the variable, the output should change."
   ]
  },
  {
   "cell_type": "code",
   "execution_count": null,
   "metadata": {},
   "outputs": [],
   "source": [
    "name_save=input(\"Enter Your Name:\")\n",
    "print(\"Hello,\",name_save)"
   ]
  },
  {
   "cell_type": "markdown",
   "metadata": {},
   "source": [
    "### 3. Calculating Annuities (20 pts)\n",
    "An annuity is a financial product where you add or subtract the same amount of money every period, e.g., month or year, and earn a consistent interest rate at the end of every period. In an ordinary annuity, the money is added at the end of each period. A bank account with direct deposit is an example of an ordinary annuity. In an annuity due, the money is added at the beginning of the period. Rent is an example of an annuity due. The future value of an annuity is the amount of money you will have if you start with  dollars, earn an interest rate of , and keep it invested for  periods. The present value of an annuity is how much money you need to invest per period in order to have  dollars after  periods at a rate of .  is the cash flow per period,  is the interest rate and  is the number of payments."
   ]
  },
  {
   "cell_type": "code",
   "execution_count": null,
   "metadata": {},
   "outputs": [],
   "source": [
    "C=1000\n",
    "i=0.05\n",
    "n=5"
   ]
  },
  {
   "cell_type": "code",
   "execution_count": null,
   "metadata": {},
   "outputs": [],
   "source": [
    "### Part 3A\n",
    "fv_ordinary = C * ((((1+i) **n )-1)/i)\n",
    "print(fv_ordinary)"
   ]
  },
  {
   "cell_type": "code",
   "execution_count": null,
   "metadata": {},
   "outputs": [],
   "source": [
    "### Part 3B\n",
    "pv_ordinary = C * (((1-(1+i) ** -n)/i))\n",
    "print(pv_ordinary)"
   ]
  },
  {
   "cell_type": "code",
   "execution_count": null,
   "metadata": {},
   "outputs": [],
   "source": [
    "### Part 3C\n",
    "fv_due = fv_ordinary * (1+i)\n",
    "print(fv_due)"
   ]
  },
  {
   "cell_type": "code",
   "execution_count": null,
   "metadata": {},
   "outputs": [],
   "source": [
    "### Part 3D\n",
    "pv_due =  pv_ordinary * (1+i)\n",
    "print(pv_due)"
   ]
  },
  {
   "cell_type": "code",
   "execution_count": null,
   "metadata": {},
   "outputs": [],
   "source": [
    "C=2000\n",
    "i=0.04\n",
    "n=10"
   ]
  },
  {
   "cell_type": "code",
   "execution_count": null,
   "metadata": {},
   "outputs": [],
   "source": [
    "### Part 3A\n",
    "fv_ordinary = C * ((((1+i) **n )-1)/i)\n",
    "print(fv_ordinary)"
   ]
  },
  {
   "cell_type": "code",
   "execution_count": null,
   "metadata": {},
   "outputs": [],
   "source": [
    "### Part 3B\n",
    "pv_ordinary = C * (((1-(1+i) ** -n)/i))\n",
    "print(pv_ordinary)"
   ]
  },
  {
   "cell_type": "code",
   "execution_count": null,
   "metadata": {},
   "outputs": [],
   "source": [
    "### Part 3C\n",
    "fv_due = fv_ordinary * (1+i)\n",
    "print(fv_due)"
   ]
  },
  {
   "cell_type": "code",
   "execution_count": null,
   "metadata": {},
   "outputs": [],
   "source": [
    "### Part 3D\n",
    "pv_due =  pv_ordinary * (1+i)\n",
    "print(pv_due)"
   ]
  },
  {
   "cell_type": "code",
   "execution_count": null,
   "metadata": {},
   "outputs": [],
   "source": [
    "### Part 3A\n",
    "fv_ordinary = C * ((((1+i) **n )-1)/i)\n",
    "print(fv_ordinary)"
   ]
  }
 ],
 "metadata": {
  "kernelspec": {
   "display_name": "Python 3.9",
   "language": "python",
   "name": "python3"
  },
  "language_info": {
   "codemirror_mode": {
    "name": "ipython",
    "version": 3
   },
   "file_extension": ".py",
   "mimetype": "text/x-python",
   "name": "python",
   "nbconvert_exporter": "python",
   "pygments_lexer": "ipython3",
   "version": "3.9.9"
  }
 },
 "nbformat": 4,
 "nbformat_minor": 4
}
